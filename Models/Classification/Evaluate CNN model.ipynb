{
 "cells": [
  {
   "cell_type": "code",
   "execution_count": 46,
   "id": "17a1382e",
   "metadata": {},
   "outputs": [],
   "source": [
    "from keras.models import load_model\n",
    "from keras.preprocessing.image import ImageDataGenerator\n",
    "import pandas as pd\n",
    "import numpy as np\n",
    "from PIL import Image\n",
    "import matplotlib.pyplot as plt\n",
    "%matplotlib inline\n",
    "import os\n",
    "from sklearn.metrics import confusion_matrix\n",
    "from tqdm.notebook import tqdm"
   ]
  },
  {
   "cell_type": "code",
   "execution_count": 2,
   "id": "6c52350e",
   "metadata": {},
   "outputs": [
    {
     "name": "stdout",
     "output_type": "stream",
     "text": [
      "WARNING:tensorflow:From /home/compu/anaconda3/envs/tf115/lib/python3.7/site-packages/tensorflow_core/python/ops/resource_variable_ops.py:1630: calling BaseResourceVariable.__init__ (from tensorflow.python.ops.resource_variable_ops) with constraint is deprecated and will be removed in a future version.\n",
      "Instructions for updating:\n",
      "If using Keras pass *_constraint arguments to layers.\n",
      "WARNING:tensorflow:From /home/compu/anaconda3/envs/tf115/lib/python3.7/site-packages/keras/backend/tensorflow_backend.py:4070: The name tf.nn.max_pool is deprecated. Please use tf.nn.max_pool2d instead.\n",
      "\n",
      "WARNING:tensorflow:From /home/compu/anaconda3/envs/tf115/lib/python3.7/site-packages/keras/backend/tensorflow_backend.py:4074: The name tf.nn.avg_pool is deprecated. Please use tf.nn.avg_pool2d instead.\n",
      "\n",
      "WARNING:tensorflow:From /home/compu/anaconda3/envs/tf115/lib/python3.7/site-packages/keras/backend/tensorflow_backend.py:422: The name tf.global_variables is deprecated. Please use tf.compat.v1.global_variables instead.\n",
      "\n"
     ]
    }
   ],
   "source": [
    "model = load_model('model_best.h5')"
   ]
  },
  {
   "cell_type": "code",
   "execution_count": 3,
   "id": "6e1a4f0c",
   "metadata": {},
   "outputs": [],
   "source": [
    "unique_breeds = pd.read_csv('encoding_label.csv')\n",
    "unique_breeds = unique_breeds.drop('Unnamed: 0', axis=1)"
   ]
  },
  {
   "cell_type": "code",
   "execution_count": 4,
   "id": "5a1d41d7",
   "metadata": {},
   "outputs": [
    {
     "data": {
      "text/html": [
       "<div>\n",
       "<style scoped>\n",
       "    .dataframe tbody tr th:only-of-type {\n",
       "        vertical-align: middle;\n",
       "    }\n",
       "\n",
       "    .dataframe tbody tr th {\n",
       "        vertical-align: top;\n",
       "    }\n",
       "\n",
       "    .dataframe thead th {\n",
       "        text-align: right;\n",
       "    }\n",
       "</style>\n",
       "<table border=\"1\" class=\"dataframe\">\n",
       "  <thead>\n",
       "    <tr style=\"text-align: right;\">\n",
       "      <th></th>\n",
       "      <th>breed</th>\n",
       "    </tr>\n",
       "  </thead>\n",
       "  <tbody>\n",
       "    <tr>\n",
       "      <th>0</th>\n",
       "      <td>affenpinscher</td>\n",
       "    </tr>\n",
       "    <tr>\n",
       "      <th>1</th>\n",
       "      <td>afghan_hound</td>\n",
       "    </tr>\n",
       "    <tr>\n",
       "      <th>2</th>\n",
       "      <td>african_hunting_dog</td>\n",
       "    </tr>\n",
       "    <tr>\n",
       "      <th>3</th>\n",
       "      <td>airedale</td>\n",
       "    </tr>\n",
       "    <tr>\n",
       "      <th>4</th>\n",
       "      <td>american_staffordshire_terrier</td>\n",
       "    </tr>\n",
       "    <tr>\n",
       "      <th>...</th>\n",
       "      <td>...</td>\n",
       "    </tr>\n",
       "    <tr>\n",
       "      <th>117</th>\n",
       "      <td>welsh_springer_spaniel</td>\n",
       "    </tr>\n",
       "    <tr>\n",
       "      <th>118</th>\n",
       "      <td>west_highland_white_terrier</td>\n",
       "    </tr>\n",
       "    <tr>\n",
       "      <th>119</th>\n",
       "      <td>whippet</td>\n",
       "    </tr>\n",
       "    <tr>\n",
       "      <th>120</th>\n",
       "      <td>wire-haired_fox_terrier</td>\n",
       "    </tr>\n",
       "    <tr>\n",
       "      <th>121</th>\n",
       "      <td>yorkshire_terrier</td>\n",
       "    </tr>\n",
       "  </tbody>\n",
       "</table>\n",
       "<p>122 rows × 1 columns</p>\n",
       "</div>"
      ],
      "text/plain": [
       "                              breed\n",
       "0                     affenpinscher\n",
       "1                      afghan_hound\n",
       "2               african_hunting_dog\n",
       "3                          airedale\n",
       "4    american_staffordshire_terrier\n",
       "..                              ...\n",
       "117          welsh_springer_spaniel\n",
       "118     west_highland_white_terrier\n",
       "119                         whippet\n",
       "120         wire-haired_fox_terrier\n",
       "121               yorkshire_terrier\n",
       "\n",
       "[122 rows x 1 columns]"
      ]
     },
     "execution_count": 4,
     "metadata": {},
     "output_type": "execute_result"
    }
   ],
   "source": [
    "unique_breeds"
   ]
  },
  {
   "cell_type": "code",
   "execution_count": 37,
   "id": "a5681438",
   "metadata": {},
   "outputs": [],
   "source": [
    "breed_list = os.listdir('./dataset/test')"
   ]
  },
  {
   "cell_type": "code",
   "execution_count": 39,
   "id": "940241b2",
   "metadata": {},
   "outputs": [],
   "source": [
    "fierce_dog = ['american_staffordshire_terrier', 'japanese_mastiff', 'pitbull_terrier', 'rottweiler', 'staffordshire_bullterrier']"
   ]
  },
  {
   "cell_type": "code",
   "execution_count": 38,
   "id": "3ea30f1f",
   "metadata": {},
   "outputs": [
    {
     "data": {
      "text/plain": [
       "['siberian_husky',\n",
       " 'beagle',\n",
       " 'lhasa',\n",
       " 'bernese_mountain_dog',\n",
       " 'schipperke',\n",
       " 'blenheim_spaniel',\n",
       " 'pug',\n",
       " 'irish_setter',\n",
       " 'walker_hound',\n",
       " 'samoyed',\n",
       " 'newfoundland',\n",
       " 'labrador_retriever',\n",
       " 'shetland_sheepdog',\n",
       " 'bedlington_terrier',\n",
       " 'doberman',\n",
       " 'keeshond',\n",
       " 'appenzeller',\n",
       " 'australian_terrier',\n",
       " 'malamute',\n",
       " 'american_staffordshire_terrier',\n",
       " 'giant_schnauzer',\n",
       " 'kelpie',\n",
       " 'shih-tzu',\n",
       " 'japanese_spaniel',\n",
       " 'borzoi',\n",
       " 'welsh_springer_spaniel',\n",
       " 'redbone',\n",
       " 'komondor',\n",
       " 'basset',\n",
       " 'norwegian_elkhound',\n",
       " 'staffordshire_bullterrier',\n",
       " 'dhole',\n",
       " 'dingo',\n",
       " 'malinois',\n",
       " 'weimaraner',\n",
       " 'norfolk_terrier',\n",
       " 'sealyham_terrier',\n",
       " 'pomeranian',\n",
       " 'cardigan',\n",
       " 'ibizan_hound',\n",
       " 'collie',\n",
       " 'japanese_mastiff',\n",
       " 'brabancon_griffon',\n",
       " 'otterhound',\n",
       " 'standard_poodle',\n",
       " 'curly-coated_retriever',\n",
       " 'miniature_pinscher',\n",
       " 'pitbull_terrier',\n",
       " 'chow',\n",
       " 'papillon',\n",
       " 'soft-coated_wheaten_terrier',\n",
       " 'bouvier_des_flandres',\n",
       " 'cairn',\n",
       " 'german_short-haired_pointer',\n",
       " 'bluetick',\n",
       " 'kerry_blue_terrier',\n",
       " 'vizsla',\n",
       " 'miniature_schnauzer',\n",
       " 'english_foxhound',\n",
       " 'great_dane',\n",
       " 'bull_mastiff',\n",
       " 'standard_schnauzer',\n",
       " 'african_hunting_dog',\n",
       " 'old_english_sheepdog',\n",
       " 'basenji',\n",
       " 'saint_bernard',\n",
       " 'kuvasz',\n",
       " 'leonberg',\n",
       " 'miniature_poodle',\n",
       " 'french_bulldog',\n",
       " 'airedale',\n",
       " 'border_collie',\n",
       " 'chihuahua',\n",
       " 'mexican_hairless',\n",
       " 'silky_terrier',\n",
       " 'eskimo_dog',\n",
       " 'greater_swiss_mountain_dog',\n",
       " 'yorkshire_terrier',\n",
       " 'groenendael',\n",
       " 'italian_greyhound',\n",
       " 'tibetan_mastiff',\n",
       " 'whippet',\n",
       " 'sussex_spaniel',\n",
       " 'cocker_spaniel',\n",
       " 'toy_terrier',\n",
       " 'boxer',\n",
       " 'west_highland_white_terrier',\n",
       " 'pekinese',\n",
       " 'scottish_deerhound',\n",
       " 'rottweiler',\n",
       " 'chesapeake_bay_retriever',\n",
       " 'lakeland_terrier',\n",
       " 'afghan_hound',\n",
       " 'brittany_spaniel',\n",
       " 'saluki',\n",
       " 'clumber',\n",
       " 'irish_wolfhound',\n",
       " 'german_shepherd',\n",
       " 'dandie_dinmont',\n",
       " 'great_pyrenees',\n",
       " 'entlebucher',\n",
       " 'pembroke',\n",
       " 'tibetan_terrier',\n",
       " 'irish_water_spaniel',\n",
       " 'flat-coated_retriever',\n",
       " 'golden_retriever',\n",
       " 'english_springer',\n",
       " 'affenpinscher',\n",
       " 'gordon_setter',\n",
       " 'wire-haired_fox_terrier',\n",
       " 'boston_bull',\n",
       " 'maltese_dog',\n",
       " 'briard',\n",
       " 'irish_terrier',\n",
       " 'rhodesian_ridgeback',\n",
       " 'border_terrier',\n",
       " 'scotch_terrier',\n",
       " 'norwich_terrier',\n",
       " 'black-and-tan_coonhound',\n",
       " 'english_setter',\n",
       " 'bloodhound',\n",
       " 'toy_poodle']"
      ]
     },
     "execution_count": 38,
     "metadata": {},
     "output_type": "execute_result"
    }
   ],
   "source": [
    "breed_list"
   ]
  },
  {
   "cell_type": "code",
   "execution_count": 42,
   "id": "fc4d31ff",
   "metadata": {},
   "outputs": [],
   "source": [
    "def transfer_image(img):\n",
    "    resize = img.resize((224, 224))\n",
    "    resize = np.array(resize)/255.\n",
    "    resize = resize.reshape(1, 224, 224, 3)\n",
    "    return resize"
   ]
  },
  {
   "cell_type": "code",
   "execution_count": 43,
   "id": "5a86703f",
   "metadata": {},
   "outputs": [],
   "source": [
    "def get_pred_label(pred_prob):\n",
    "    return unique_breeds.iloc[np.argmax(pred_prob)]['breed']"
   ]
  },
  {
   "cell_type": "code",
   "execution_count": 47,
   "id": "a6b3ae4f",
   "metadata": {},
   "outputs": [
    {
     "data": {
      "application/vnd.jupyter.widget-view+json": {
       "model_id": "732998578ae241f69f4699b1deaed10c",
       "version_major": 2,
       "version_minor": 0
      },
      "text/plain": [
       "  0%|          | 0/122 [00:00<?, ?it/s]"
      ]
     },
     "metadata": {},
     "output_type": "display_data"
    }
   ],
   "source": [
    "y_pred = []\n",
    "y_true = []\n",
    "\n",
    "for breed in tqdm(breed_list):\n",
    "    path = ('./dataset/test/{}'.format(breed))\n",
    "    filenames = os.listdir(path)\n",
    "    for filename in filenames:\n",
    "        path = ('./dataset/test/{}/{}'.format(breed, filename))\n",
    "        img = Image.open(path)\n",
    "        resize = transfer_image(img)\n",
    "\n",
    "        pred_prob = model.predict(resize)\n",
    "        pred_label = get_pred_label(pred_prob)\n",
    "        \n",
    "        y_pred.append(pred_label)\n",
    "        y_true.append(breed)"
   ]
  },
  {
   "cell_type": "code",
   "execution_count": null,
   "id": "558807f4",
   "metadata": {},
   "outputs": [],
   "source": [
    "'''\n",
    "                             Actual\n",
    "                             \n",
    "                        Positive    Negative\n",
    "    \n",
    "Predicted    Positive     TP          FP\n",
    "\n",
    "\n",
    "             Negative     FN          TN\n",
    "'''"
   ]
  },
  {
   "cell_type": "code",
   "execution_count": 52,
   "id": "bbdc34e7",
   "metadata": {},
   "outputs": [],
   "source": [
    "A = 10"
   ]
  },
  {
   "cell_type": "code",
   "execution_count": 53,
   "id": "e2f3d37e",
   "metadata": {},
   "outputs": [],
   "source": [
    "B= [10, 9, 8, 7]"
   ]
  },
  {
   "cell_type": "code",
   "execution_count": 55,
   "id": "99f3c3c4",
   "metadata": {},
   "outputs": [
    {
     "data": {
      "text/plain": [
       "True"
      ]
     },
     "execution_count": 55,
     "metadata": {},
     "output_type": "execute_result"
    }
   ],
   "source": [
    "A in B"
   ]
  },
  {
   "cell_type": "code",
   "execution_count": 83,
   "id": "39f3d3db",
   "metadata": {},
   "outputs": [
    {
     "data": {
      "text/plain": [
       "2137"
      ]
     },
     "execution_count": 83,
     "metadata": {},
     "output_type": "execute_result"
    }
   ],
   "source": [
    "len(y_pred)"
   ]
  },
  {
   "cell_type": "code",
   "execution_count": 62,
   "id": "ab93cf40",
   "metadata": {},
   "outputs": [],
   "source": [
    "# 전체 혼동행렬\n",
    "\n",
    "TP = []\n",
    "FP = []\n",
    "FN = []\n",
    "TN = []\n",
    "\n",
    "for breed in zip(y_pred, y_true):\n",
    "    if breed[0] in fierce_dog:\n",
    "        if breed[1] in fierce_dog:\n",
    "            TP.append(1)\n",
    "        else:\n",
    "            FP.append(1)\n",
    "    else:\n",
    "        if breed[1] in fierce_dog:\n",
    "            FN.append(1)\n",
    "        else:\n",
    "            TN.append(1)"
   ]
  },
  {
   "cell_type": "code",
   "execution_count": 63,
   "id": "553c783d",
   "metadata": {},
   "outputs": [],
   "source": [
    "TP = sum(TP)\n",
    "FP = sum(FP)\n",
    "FN = sum(FN)\n",
    "TN = sum(TN)"
   ]
  },
  {
   "cell_type": "code",
   "execution_count": 64,
   "id": "79d65a8f",
   "metadata": {},
   "outputs": [],
   "source": [
    "Precision = TP/(TP+FP)\n",
    "Negative_Predictive_value = TN/(TN+FN)\n",
    "Sensitivity = TP/(TP+FN)\n",
    "Specificity = TN/(TN+FP)\n",
    "Accuracy = (TP+TN)/(TP+TN+FP+FN)"
   ]
  },
  {
   "cell_type": "code",
   "execution_count": 85,
   "id": "303b838c",
   "metadata": {},
   "outputs": [
    {
     "name": "stdout",
     "output_type": "stream",
     "text": [
      "Precision : 0.937\n",
      "Negative_Predictive_value : 0.997\n",
      "Sensitivity : 0.957\n",
      "Specificity : 0.995\n",
      "Accuracy : 0.993\n"
     ]
    }
   ],
   "source": [
    "lst = ['Precision', 'Negative_Predictive_value', 'Sensitivity', 'Specificity', 'Accuracy']\n",
    "for i, j in enumerate([Precision, Negative_Predictive_value, Sensitivity, Specificity, Accuracy]):\n",
    "    print('{} :'.format(lst[i]), round(j, 3))"
   ]
  },
  {
   "cell_type": "code",
   "execution_count": 70,
   "id": "e6e58d08",
   "metadata": {},
   "outputs": [
    {
     "name": "stdout",
     "output_type": "stream",
     "text": [
      "('rottweiler', 'labrador_retriever')\n",
      "('american_staffordshire_terrier', 'american_staffordshire_terrier')\n",
      "('staffordshire_bullterrier', 'american_staffordshire_terrier')\n",
      "('american_staffordshire_terrier', 'american_staffordshire_terrier')\n",
      "('pitbull_terrier', 'american_staffordshire_terrier')\n",
      "('american_staffordshire_terrier', 'american_staffordshire_terrier')\n",
      "('staffordshire_bullterrier', 'american_staffordshire_terrier')\n",
      "('american_staffordshire_terrier', 'american_staffordshire_terrier')\n",
      "('american_staffordshire_terrier', 'american_staffordshire_terrier')\n",
      "('brittany_spaniel', 'american_staffordshire_terrier')\n",
      "('pitbull_terrier', 'american_staffordshire_terrier')\n",
      "('pitbull_terrier', 'american_staffordshire_terrier')\n",
      "('boston_bull', 'american_staffordshire_terrier')\n",
      "('pitbull_terrier', 'american_staffordshire_terrier')\n",
      "('american_staffordshire_terrier', 'american_staffordshire_terrier')\n",
      "('american_staffordshire_terrier', 'american_staffordshire_terrier')\n",
      "('staffordshire_bullterrier', 'staffordshire_bullterrier')\n",
      "('staffordshire_bullterrier', 'staffordshire_bullterrier')\n",
      "('staffordshire_bullterrier', 'staffordshire_bullterrier')\n",
      "('staffordshire_bullterrier', 'staffordshire_bullterrier')\n",
      "('staffordshire_bullterrier', 'staffordshire_bullterrier')\n",
      "('pitbull_terrier', 'staffordshire_bullterrier')\n",
      "('staffordshire_bullterrier', 'staffordshire_bullterrier')\n",
      "('american_staffordshire_terrier', 'staffordshire_bullterrier')\n",
      "('staffordshire_bullterrier', 'staffordshire_bullterrier')\n",
      "('staffordshire_bullterrier', 'staffordshire_bullterrier')\n",
      "('staffordshire_bullterrier', 'staffordshire_bullterrier')\n",
      "('staffordshire_bullterrier', 'staffordshire_bullterrier')\n",
      "('staffordshire_bullterrier', 'staffordshire_bullterrier')\n",
      "('staffordshire_bullterrier', 'staffordshire_bullterrier')\n",
      "('staffordshire_bullterrier', 'staffordshire_bullterrier')\n",
      "('staffordshire_bullterrier', 'staffordshire_bullterrier')\n",
      "('japanese_mastiff', 'japanese_mastiff')\n",
      "('bull_mastiff', 'japanese_mastiff')\n",
      "('staffordshire_bullterrier', 'japanese_mastiff')\n",
      "('japanese_mastiff', 'japanese_mastiff')\n",
      "('japanese_mastiff', 'japanese_mastiff')\n",
      "('japanese_mastiff', 'japanese_mastiff')\n",
      "('japanese_mastiff', 'japanese_mastiff')\n",
      "('japanese_mastiff', 'japanese_mastiff')\n",
      "('japanese_mastiff', 'japanese_mastiff')\n",
      "('pitbull_terrier', 'japanese_mastiff')\n",
      "('japanese_mastiff', 'japanese_mastiff')\n",
      "('japanese_mastiff', 'japanese_mastiff')\n",
      "('japanese_mastiff', 'japanese_mastiff')\n",
      "('japanese_mastiff', 'japanese_mastiff')\n",
      "('japanese_mastiff', 'japanese_mastiff')\n",
      "('japanese_mastiff', 'japanese_mastiff')\n",
      "('japanese_mastiff', 'japanese_mastiff')\n",
      "('japanese_mastiff', 'japanese_mastiff')\n",
      "('japanese_mastiff', 'japanese_mastiff')\n",
      "('japanese_mastiff', 'japanese_mastiff')\n",
      "('japanese_mastiff', 'japanese_mastiff')\n",
      "('japanese_mastiff', 'japanese_mastiff')\n",
      "('japanese_mastiff', 'japanese_mastiff')\n",
      "('japanese_mastiff', 'japanese_mastiff')\n",
      "('japanese_mastiff', 'japanese_mastiff')\n",
      "('japanese_mastiff', 'japanese_mastiff')\n",
      "('japanese_mastiff', 'japanese_mastiff')\n",
      "('japanese_mastiff', 'japanese_mastiff')\n",
      "('japanese_mastiff', 'japanese_mastiff')\n",
      "('japanese_mastiff', 'japanese_mastiff')\n",
      "('pitbull_terrier', 'japanese_mastiff')\n",
      "('japanese_mastiff', 'japanese_mastiff')\n",
      "('japanese_mastiff', 'japanese_mastiff')\n",
      "('japanese_mastiff', 'japanese_mastiff')\n",
      "('japanese_mastiff', 'japanese_mastiff')\n",
      "('japanese_mastiff', 'japanese_mastiff')\n",
      "('japanese_mastiff', 'japanese_mastiff')\n",
      "('rottweiler', 'miniature_pinscher')\n",
      "('pitbull_terrier', 'pitbull_terrier')\n",
      "('pitbull_terrier', 'pitbull_terrier')\n",
      "('pitbull_terrier', 'pitbull_terrier')\n",
      "('pitbull_terrier', 'pitbull_terrier')\n",
      "('pitbull_terrier', 'pitbull_terrier')\n",
      "('pitbull_terrier', 'pitbull_terrier')\n",
      "('pitbull_terrier', 'pitbull_terrier')\n",
      "('pitbull_terrier', 'pitbull_terrier')\n",
      "('pitbull_terrier', 'pitbull_terrier')\n",
      "('pitbull_terrier', 'pitbull_terrier')\n",
      "('pitbull_terrier', 'pitbull_terrier')\n",
      "('pitbull_terrier', 'pitbull_terrier')\n",
      "('pitbull_terrier', 'pitbull_terrier')\n",
      "('pitbull_terrier', 'pitbull_terrier')\n",
      "('japanese_mastiff', 'pitbull_terrier')\n",
      "('pitbull_terrier', 'pitbull_terrier')\n",
      "('pitbull_terrier', 'pitbull_terrier')\n",
      "('pitbull_terrier', 'pitbull_terrier')\n",
      "('pitbull_terrier', 'pitbull_terrier')\n",
      "('pitbull_terrier', 'pitbull_terrier')\n",
      "('pitbull_terrier', 'pitbull_terrier')\n",
      "('pitbull_terrier', 'pitbull_terrier')\n",
      "('pitbull_terrier', 'pitbull_terrier')\n",
      "('pitbull_terrier', 'pitbull_terrier')\n",
      "('pitbull_terrier', 'pitbull_terrier')\n",
      "('pitbull_terrier', 'pitbull_terrier')\n",
      "('pitbull_terrier', 'pitbull_terrier')\n",
      "('pitbull_terrier', 'pitbull_terrier')\n",
      "('pitbull_terrier', 'pitbull_terrier')\n",
      "('pitbull_terrier', 'pitbull_terrier')\n",
      "('pitbull_terrier', 'pitbull_terrier')\n",
      "('pitbull_terrier', 'pitbull_terrier')\n",
      "('pitbull_terrier', 'pitbull_terrier')\n",
      "('pitbull_terrier', 'pitbull_terrier')\n",
      "('pitbull_terrier', 'pitbull_terrier')\n",
      "('pitbull_terrier', 'pitbull_terrier')\n",
      "('pitbull_terrier', 'pitbull_terrier')\n",
      "('pitbull_terrier', 'pitbull_terrier')\n",
      "('pitbull_terrier', 'pitbull_terrier')\n",
      "('pitbull_terrier', 'pitbull_terrier')\n",
      "('pitbull_terrier', 'pitbull_terrier')\n",
      "('pitbull_terrier', 'pitbull_terrier')\n",
      "('pitbull_terrier', 'pitbull_terrier')\n",
      "('pitbull_terrier', 'pitbull_terrier')\n",
      "('japanese_mastiff', 'pitbull_terrier')\n",
      "('pitbull_terrier', 'pitbull_terrier')\n",
      "('pitbull_terrier', 'pitbull_terrier')\n",
      "('pitbull_terrier', 'pitbull_terrier')\n",
      "('pitbull_terrier', 'pitbull_terrier')\n",
      "('pitbull_terrier', 'pitbull_terrier')\n",
      "('pitbull_terrier', 'pitbull_terrier')\n",
      "('pitbull_terrier', 'pitbull_terrier')\n",
      "('pitbull_terrier', 'pitbull_terrier')\n",
      "('pitbull_terrier', 'pitbull_terrier')\n",
      "('pitbull_terrier', 'pitbull_terrier')\n",
      "('pitbull_terrier', 'pitbull_terrier')\n",
      "('pitbull_terrier', 'french_bulldog')\n",
      "('staffordshire_bullterrier', 'whippet')\n",
      "('staffordshire_bullterrier', 'boxer')\n",
      "('rottweiler', 'rottweiler')\n",
      "('rottweiler', 'rottweiler')\n",
      "('rottweiler', 'rottweiler')\n",
      "('rottweiler', 'rottweiler')\n",
      "('rottweiler', 'rottweiler')\n",
      "('rottweiler', 'rottweiler')\n",
      "('rottweiler', 'rottweiler')\n",
      "('rottweiler', 'rottweiler')\n",
      "('rottweiler', 'rottweiler')\n",
      "('black-and-tan_coonhound', 'rottweiler')\n",
      "('rottweiler', 'rottweiler')\n",
      "('doberman', 'rottweiler')\n",
      "('rottweiler', 'rottweiler')\n",
      "('rottweiler', 'rottweiler')\n",
      "('doberman', 'rottweiler')\n",
      "('staffordshire_bullterrier', 'lakeland_terrier')\n",
      "('pitbull_terrier', 'wire-haired_fox_terrier')\n",
      "('staffordshire_bullterrier', 'boston_bull')\n",
      "('japanese_mastiff', 'rhodesian_ridgeback')\n"
     ]
    }
   ],
   "source": [
    "result = []\n",
    "for breed in zip(y_pred, y_true):\n",
    "    if (breed[0] in fierce_dog) | (breed[1] in fierce_dog):\n",
    "        result.append(breed)"
   ]
  },
  {
   "cell_type": "code",
   "execution_count": 75,
   "id": "a81d95d0",
   "metadata": {},
   "outputs": [],
   "source": [
    "# 맹견 혼동행렬\n",
    "\n",
    "accuracy = []\n",
    "for pred, true in result:\n",
    "    if pred == true:\n",
    "        accuracy.append(1)"
   ]
  },
  {
   "cell_type": "code",
   "execution_count": 78,
   "id": "20d3f005",
   "metadata": {},
   "outputs": [],
   "source": [
    "accuracy = sum(accuracy) / len(result)"
   ]
  },
  {
   "cell_type": "code",
   "execution_count": 86,
   "id": "b484df61",
   "metadata": {},
   "outputs": [
    {
     "data": {
      "text/plain": [
       "0.811"
      ]
     },
     "execution_count": 86,
     "metadata": {},
     "output_type": "execute_result"
    }
   ],
   "source": [
    "round(accuracy, 3)"
   ]
  }
 ],
 "metadata": {
  "kernelspec": {
   "display_name": "Python [conda env:tf115] *",
   "language": "python",
   "name": "conda-env-tf115-py"
  },
  "language_info": {
   "codemirror_mode": {
    "name": "ipython",
    "version": 3
   },
   "file_extension": ".py",
   "mimetype": "text/x-python",
   "name": "python",
   "nbconvert_exporter": "python",
   "pygments_lexer": "ipython3",
   "version": "3.7.0"
  }
 },
 "nbformat": 4,
 "nbformat_minor": 5
}
